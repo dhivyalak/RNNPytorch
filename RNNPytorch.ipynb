{
 "cells": [
  {
   "cell_type": "markdown",
   "metadata": {},
   "source": [
    "# <strong>Recurrent Neural Networks Using Pytorch</strong>"
   ]
  },
  {
   "cell_type": "markdown",
   "metadata": {},
   "source": [
    "### In this notebook you will learn the basics of a Recurrent Neural Network using the python library Pytorch.\n",
    "---\n",
    "### <strong>Table of Contents</strong>\n",
    "1. Introduction to Recurrent Neural Networks\n",
    "2. Time Series Data\n",
    "3. Using Pytorch\n",
    "4. Code\n",
    "---\n",
    "### By the end of this notebook, you should be able to implement an RNN using Pytorch.\n"
   ]
  },
  {
   "cell_type": "markdown",
   "metadata": {},
   "source": [
    "---\n",
    "## <strong>Introduction</strong>\n",
    "---\n",
    "Recurrent neural networks, or RNNs, are widely used in a variety of mediums. RNNs leverage sequential data to make predictions. Sequential memory makes it easier for the neural network to recognize patterns and replicate the input. In order to achieve learning through sequential memory, a feedforward neural network with looping mechanisms is implemented. \n",
    "\n",
    "As the image below outlines, there are three layers: input, hidden and output. There are loops that pass previous information forward, allowing the model to sequentially store and learn the data. The complexity of a hidden state is based on how much “historic” information is being stored, it is a representation of all previous steps. When training a model, once there is a prediction from a given output, a loss function is used to determine the error between the predicted output and real output. The model is trained through back propagation. The weight of each node in the neural network is adjusted with their corresponding gradient that is calculated during back propagation. \n",
    "<br>\n",
    "<br>\n",
    "<p align=\"center\">\n",
    "  <img src=\"images/rnnImg.png\">\n",
    "</p>\n",
    "<br>\n",
    "<br>\n",
    "The advantage of using sequential data to successfully predict certain outcomes is especially relevant when analyzing time series data. "
   ]
  },
  {
   "cell_type": "markdown",
   "metadata": {},
   "source": [
    "---\n",
    "## <strong>Time Series Data</strong>\n",
    "---\n",
    "\n"
   ]
  },
  {
   "cell_type": "markdown",
   "metadata": {},
   "source": [
    "---\n",
    "## <strong>Using Pytorch</strong>\n",
    "---"
   ]
  },
  {
   "cell_type": "markdown",
   "metadata": {},
   "source": [
    "---\n",
    "## <strong>Code</strong>\n",
    "---"
   ]
  },
  {
   "cell_type": "markdown",
   "metadata": {},
   "source": [
    "### <strong>Want to Learn More?</strong>\n",
    "\n",
    "Running deep learning programs usually needs a high performance platform. **PowerAI** speeds up deep learning and AI. Built on IBM’s Power Systems, **PowerAI** is a scalable software platform that accelerates deep learning and AI with blazing performance for individual users or enterprises. The **PowerAI** platform supports popular machine learning libraries and dependencies including TensorFlow, Caffe, Torch, and Theano. You can use [PowerAI on IMB Cloud](https://cocl.us/ML0120EN_PAI).\n",
    "\n",
    "Also, you can use **Watson Studio** to run these notebooks faster with bigger datasets. **Watson Studio** is IBM’s leading cloud solution for data scientists, built by data scientists. With Jupyter notebooks, RStudio, Apache Spark and popular libraries pre-packaged in the cloud, **Watson Studio** enables data scientists to collaborate on their projects without having to install anything. Join the fast-growing community of **Watson Studio** users today with a free account at [Watson Studio](https://cocl.us/ML0120EN_DSX). This is the end of this lesson. Thank you for reading this notebook, and good luck!"
   ]
  },
  {
   "cell_type": "markdown",
   "metadata": {},
   "source": [
    "### <strong>References</strong>\n",
    "\n",
    "* https://pytorch.org/tutorials/beginner/basics/intro.html\n",
    "* https://www.youtube.com/watch?v=LHXXI4-IEns"
   ]
  }
 ],
 "metadata": {
  "interpreter": {
   "hash": "5edc29c2ed010d6458d71a83433b383a96a8cbd3efe8531bc90c4b8a5b8bcec9"
  },
  "kernelspec": {
   "display_name": "Python 3.8.2 64-bit",
   "name": "python3"
  },
  "language_info": {
   "name": "python",
   "version": ""
  },
  "orig_nbformat": 4
 },
 "nbformat": 4,
 "nbformat_minor": 2
}